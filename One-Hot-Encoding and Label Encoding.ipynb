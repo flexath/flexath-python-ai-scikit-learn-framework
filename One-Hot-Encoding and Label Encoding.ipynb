{
 "cells": [
  {
   "cell_type": "markdown",
   "metadata": {},
   "source": [
    "## One-Hot Encoding ( Preprocessing from pandas)"
   ]
  },
  {
   "cell_type": "code",
   "execution_count": 1,
   "metadata": {},
   "outputs": [
    {
     "name": "stdout",
     "output_type": "stream",
     "text": [
      "Prediction price is [693931.41259943]\n",
      "Prediction accuracy score is 95.73929037221873 %\n"
     ]
    }
   ],
   "source": [
    "import pandas as pd\n",
    "import matplotlib.pyplot as plt\n",
    "from sklearn import linear_model\n",
    "%matplotlib inline\n",
    "\n",
    "filepath = \"C:\\\\Users\\\\Aung Thiha\\\\Machine Learning With Python\\\\machine learning datasheets\\\\py-master\\\\ML\\\\5_one_hot_encoding\\\\homeprices.csv\"\n",
    "df = pd.read_csv(filepath)\n",
    "\n",
    "# Data preprocessing and select model\n",
    "dummy = pd.get_dummies(df.town)\n",
    "df = pd.concat([df,dummy],axis=\"columns\")\n",
    "df = df.drop([\"town\"],axis = \"columns\")\n",
    "last_df = df.drop([\"price\"],axis = \"columns\")\n",
    "goal_model = df.price\n",
    "\n",
    "reg = linear_model.LinearRegression()\n",
    "\n",
    "\n",
    "# train and predict model\n",
    "train = reg.fit(last_df,goal_model)\n",
    "predict = reg.predict([[3500,0,0,1]])\n",
    "\n",
    "print(\"Prediction price is\" , predict)\n",
    "print(\"Prediction accuracy score is\" , reg.score(last_df,goal_model)*100 , \"%\")"
   ]
  },
  {
   "cell_type": "markdown",
   "metadata": {},
   "source": [
    "## Label Encoding ( Preprocessing from sklearn)"
   ]
  },
  {
   "cell_type": "code",
   "execution_count": 2,
   "metadata": {},
   "outputs": [
    {
     "name": "stdout",
     "output_type": "stream",
     "text": [
      "[1]\n",
      "Prediction score accuarcy is  1.0\n"
     ]
    }
   ],
   "source": [
    "import pandas as pd\n",
    "from sklearn import tree\n",
    "from sklearn.preprocessing import LabelEncoder\n",
    "import matplotlib.pyplot as plt\n",
    "%matplotlib inline\n",
    "\n",
    "filepath = \"C:\\\\Users\\\\Aung Thiha\\\\Machine Learning With Python\\\\machine learning datasheets\\\\py-master\\\\ML\\\\9_decision_tree\\\\salaries.csv\"\n",
    "df = pd.read_csv(filepath)\n",
    "\n",
    "inputs = df.drop([\"salary_more_then_100k\"],axis=\"columns\")\n",
    "target = df.salary_more_then_100k\n",
    "\n",
    "company_Encoder = LabelEncoder()\n",
    "job_Encoder = LabelEncoder()\n",
    "degree_Encoder = LabelEncoder()\n",
    "\n",
    "inputs[\"company_Encoder\"] = company_Encoder.fit_transform(inputs[\"company\"])\n",
    "inputs[\"job_Encoder\"] = job_Encoder.fit_transform(inputs[\"job\"])\n",
    "inputs[\"degree_Encoder\"] = degree_Encoder.fit_transform(inputs[\"degree\"])\n",
    "\n",
    "new_df = inputs.drop([\"company\",\"job\",\"degree\"],axis=\"columns\")\n",
    "\n",
    "model = tree.DecisionTreeClassifier()\n",
    "model.fit(new_df,target)\n",
    "\n",
    "print(model.predict([[2,0,1]]))\n",
    "print(\"Prediction score accuarcy is \", model.score(new_df,target))"
   ]
  },
  {
   "cell_type": "code",
   "execution_count": null,
   "metadata": {},
   "outputs": [],
   "source": []
  }
 ],
 "metadata": {
  "kernelspec": {
   "display_name": "Python 3",
   "language": "python",
   "name": "python3"
  },
  "language_info": {
   "codemirror_mode": {
    "name": "ipython",
    "version": 3
   },
   "file_extension": ".py",
   "mimetype": "text/x-python",
   "name": "python",
   "nbconvert_exporter": "python",
   "pygments_lexer": "ipython3",
   "version": "3.7.4"
  }
 },
 "nbformat": 4,
 "nbformat_minor": 2
}
