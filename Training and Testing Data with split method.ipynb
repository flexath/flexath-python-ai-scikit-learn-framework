{
 "cells": [
  {
   "cell_type": "code",
   "execution_count": 7,
   "metadata": {},
   "outputs": [
    {
     "name": "stdout",
     "output_type": "stream",
     "text": [
      "[[20668.52722622]\n",
      " [16762.33242213]\n",
      " [25160.18381011]\n",
      " [27209.30003936]\n",
      " [37903.32633702]\n",
      " [14729.61531335]]\n",
      "[[20668.52722622]]\n",
      "[[16762.33242213]]\n",
      "[[25160.18381011]]\n",
      "[[27209.30003936]]\n",
      "[[37903.32633702]]\n",
      "[[14729.61531335]]\n",
      "    Sell Price($)\n",
      "7           19300\n",
      "10          18700\n",
      "5           26750\n",
      "6           32000\n",
      "3           40000\n",
      "18          12800\n"
     ]
    }
   ],
   "source": [
    "import pandas as pd\n",
    "from sklearn import model_selection,linear_model\n",
    "\n",
    "filepath = \"C:\\\\Users\\\\Aung Thiha\\\\Machine Learning With Python\\\\machine learning datasheets\\\\py-master\\\\ML\\\\6_train_test_split\\\\carprices.csv\"\n",
    "df = pd.read_csv(filepath)\n",
    "\n",
    "X = df[[\"Mileage\",\"Age(yrs)\"]]\n",
    "y = df[[\"Sell Price($)\"]]\n",
    "\n",
    "X_train,X_test,y_train,y_test = model_selection.train_test_split(X,y,test_size=0.3,random_state=10)\n",
    "\n",
    "reg = linear_model.LinearRegression()\n",
    "\n",
    "# train 80% of data\n",
    "reg.fit(X_train,y_train)\n",
    "\n",
    "model = reg.predict(X_test)\n",
    "print(model)\n",
    "print(reg.predict([[72000,6]]))\n",
    "print(reg.predict([[83000,7]]))\n",
    "print(reg.predict([[59000,5]]))\n",
    "print(reg.predict([[52000,5]]))\n",
    "print(reg.predict([[22500,2]]))\n",
    "print(reg.predict([[87600,8]]))\n",
    "print(y_test)"
   ]
  },
  {
   "cell_type": "code",
   "execution_count": 5,
   "metadata": {
    "scrolled": true
   },
   "outputs": [
    {
     "data": {
      "text/plain": [
       "0.921242248377633"
      ]
     },
     "execution_count": 5,
     "metadata": {},
     "output_type": "execute_result"
    }
   ],
   "source": [
    "reg.score(X_test,y_test)"
   ]
  }
 ],
 "metadata": {
  "kernelspec": {
   "display_name": "Python 3",
   "language": "python",
   "name": "python3"
  },
  "language_info": {
   "codemirror_mode": {
    "name": "ipython",
    "version": 3
   },
   "file_extension": ".py",
   "mimetype": "text/x-python",
   "name": "python",
   "nbconvert_exporter": "python",
   "pygments_lexer": "ipython3",
   "version": "3.7.4"
  }
 },
 "nbformat": 4,
 "nbformat_minor": 2
}
