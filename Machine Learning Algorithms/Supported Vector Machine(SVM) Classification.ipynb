{
 "cells": [
  {
   "cell_type": "code",
   "execution_count": 2,
   "metadata": {},
   "outputs": [
    {
     "name": "stdout",
     "output_type": "stream",
     "text": [
      "[1 2 0 1 0 1 1 1 0 1 1 2 1 0 0]\n",
      "Accurancy score :  1.0\n"
     ]
    }
   ],
   "source": [
    "import pandas as pd\n",
    "from sklearn.datasets import load_iris\n",
    "from sklearn.svm import SVC\n",
    "from sklearn.linear_model import LinearRegression,LogisticRegression\n",
    "from sklearn import tree\n",
    "import matplotlib.pyplot as plt\n",
    "%matplotlib inline\n",
    "from sklearn.model_selection import train_test_split\n",
    "\n",
    "iris  = load_iris()\n",
    "\n",
    "df = pd.DataFrame(iris.data ,columns = iris.feature_names)\n",
    "df[\"target\"] = iris.target\n",
    "\n",
    "def flower(x):\n",
    "    return iris.target_names[x]\n",
    "\n",
    "df[\"flowers\"] = df.target.apply(flower)\n",
    "\n",
    "inputs = df.drop([\"target\",\"flowers\"],axis=\"columns\")\n",
    "target = df.target\n",
    "\n",
    "X_train,X_test,y_train,y_test = train_test_split(inputs,target,test_size=0.1,random_state=10)\n",
    "\n",
    "model = SVC(gamma=\"scale\")\n",
    "model.fit(X_train,y_train)\n",
    "print(model.predict(X_test))\n",
    "print(\"Accurancy score : \",model.score(X_test,y_test))"
   ]
  },
  {
   "cell_type": "code",
   "execution_count": 77,
   "metadata": {},
   "outputs": [
    {
     "data": {
      "text/plain": [
       "1.0"
      ]
     },
     "execution_count": 77,
     "metadata": {},
     "output_type": "execute_result"
    }
   ],
   "source": [
    "model3.score(X_test,y_test)"
   ]
  },
  {
   "cell_type": "code",
   "execution_count": 45,
   "metadata": {},
   "outputs": [
    {
     "data": {
      "text/plain": [
       "<matplotlib.collections.PathCollection at 0x1d0b15954e0>"
      ]
     },
     "execution_count": 45,
     "metadata": {},
     "output_type": "execute_result"
    },
    {
     "data": {
      "image/png": "[encoded data removed]",
      "text/plain": [
       "<Figure size 432x288 with 1 Axes>"
      ]
     },
     "metadata": {
      "needs_background": "light"
     },
     "output_type": "display_data"
    }
   ],
   "source": [
    "df_setosa = df[df.target==0]\n",
    "df_vesicolor = df[df.target==1]\n",
    "df_verginica = df[df.target==2]\n",
    "\n",
    "plt.xlabel(\"sepal length (cm)\")\n",
    "plt.ylabel(\"sepal width (cm)\")\n",
    "plt.scatter(df_setosa[\"sepal length (cm)\"],df_setosa[\"sepal width (cm)\"],color=\"red\",marker=\"*\")\n",
    "plt.scatter(df_vesicolor[\"sepal length (cm)\"],df_vesicolor[\"sepal width (cm)\"],color=\"blue\",marker=\"+\")"
   ]
  },
  {
   "cell_type": "code",
   "execution_count": 46,
   "metadata": {},
   "outputs": [
    {
     "data": {
      "text/plain": [
       "<matplotlib.collections.PathCollection at 0x1d0b1066898>"
      ]
     },
     "execution_count": 46,
     "metadata": {},
     "output_type": "execute_result"
    },
    {
     "data": {
      "image/png": "[encoded data removed]",
      "text/plain": [
       "<Figure size 432x288 with 1 Axes>"
      ]
     },
     "metadata": {
      "needs_background": "light"
     },
     "output_type": "display_data"
    }
   ],
   "source": [
    "plt.xlabel(\"petal length (cm)\")\n",
    "plt.ylabel(\"petal width (cm)\")\n",
    "plt.scatter(df_setosa[\"petal length (cm)\"],df_setosa[\"petal width (cm)\"],color=\"red\",marker=\"*\")\n",
    "plt.scatter(df_vesicolor[\"petal length (cm)\"],df_vesicolor[\"petal width (cm)\"],color=\"blue\",marker=\"+\")"
   ]
  },
  {
   "cell_type": "markdown",
   "metadata": {},
   "source": [
    "## Other Algorithm Testing"
   ]
  },
  {
   "cell_type": "code",
   "execution_count": 5,
   "metadata": {},
   "outputs": [
    {
     "name": "stdout",
     "output_type": "stream",
     "text": [
      "[ 1.20591118  1.74298326 -0.10766259  1.30493881 -0.06411489  0.98388198\n",
      "  1.43658472  1.00288632 -0.05600068  1.28220571  1.39866532  1.76707515\n",
      "  1.2042539  -0.03737351 -0.01828213]\n",
      "[1 2 0 1 0 1 1 1 0 1 1 2 1 0 0]\n",
      "[1 2 0 1 0 1 1 1 0 1 1 2 1 0 0]\n"
     ]
    }
   ],
   "source": [
    "model1 = LinearRegression()\n",
    "model2 = LogisticRegression(solver=\"newton-cg\",multi_class= \"multinomial\")\n",
    "model3 = tree.DecisionTreeClassifier()\n",
    "\n",
    "\n",
    "model1.fit(X_train,y_train)\n",
    "model2.fit(X_train,y_train)\n",
    "model3.fit(X_train,y_train)\n",
    "\n",
    "\n",
    "print(model1.predict(X_test))\n",
    "print(model2.predict(X_test))\n",
    "print(model3.predict(X_test))"
   ]
  },
  {
   "cell_type": "code",
   "execution_count": 83,
   "metadata": {},
   "outputs": [
    {
     "name": "stdout",
     "output_type": "stream",
     "text": [
      "Accurancy score :  0.883213154354905\n",
      "Accurancy score :  0.8666666666666667\n",
      "Accurancy score :  1.0\n"
     ]
    }
   ],
   "source": [
    "print(\"Accurancy score : \",model1.score(X_test,y_test))\n",
    "print(\"Accurancy score : \",model2.score(X_test,y_test))\n",
    "print(\"Accurancy score : \",model3.score(X_test,y_test))"
   ]
  },
  {
   "cell_type": "code",
   "execution_count": null,
   "metadata": {},
   "outputs": [],
   "source": []
  }
 ],
 "metadata": {
  "kernelspec": {
   "display_name": "Python 3",
   "language": "python",
   "name": "python3"
  },
  "language_info": {
   "codemirror_mode": {
    "name": "ipython",
    "version": 3
   },
   "file_extension": ".py",
   "mimetype": "text/x-python",
   "name": "python",
   "nbconvert_exporter": "python",
   "pygments_lexer": "ipython3",
   "version": "3.7.3"
  }
 },
 "nbformat": 4,
 "nbformat_minor": 2
}
