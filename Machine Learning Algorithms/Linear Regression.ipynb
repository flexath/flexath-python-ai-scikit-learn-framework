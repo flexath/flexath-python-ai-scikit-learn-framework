{
 "cells": [
  {
   "cell_type": "markdown",
   "metadata": {},
   "source": [
    "https://towardsdatascience.com/machine-learning-for-beginners-d247a9420dab"
   ]
  },
  {
   "cell_type": "markdown",
   "metadata": {},
   "source": [
    "supervised learning is in which the data comes with additional attributes that we want to predict\n",
    " \n",
    "unsupervised learning, in which the training data consists of a set of input vectors x without any corresponding target values.\n",
    "\n",
    "A common practice in machine learning is to evaluate an algorithm by splitting a data set into two. We call one of those sets the training set, on which we learn some properties; we call the other set the testing set, on which we test the learned properties.\n"
   ]
  },
  {
   "cell_type": "markdown",
   "metadata": {},
   "source": [
    "# Linear Regression with one variable"
   ]
  },
  {
   "cell_type": "markdown",
   "metadata": {},
   "source": [
    "https://scikit-learn.org/stable/modules/generated/sklearn.linear_model.LinearRegression.html#sklearn.linear_model.LinearRegression.predict\n",
    "\n",
    "\n",
    "https://www.mathsisfun.com/algebra/linear-equations.html\n",
    "\n",
    "https://github.com/codebasics/py"
   ]
  },
  {
   "cell_type": "markdown",
   "metadata": {},
   "source": [
    "y     = m* x    + b\n",
    "\n",
    "price = m* area + b\n",
    "\n",
    "where, m = coefficient ,\n",
    "       b = Y intercept"
   ]
  },
  {
   "cell_type": "code",
   "execution_count": 5,
   "metadata": {},
   "outputs": [
    {
     "name": "stdout",
     "output_type": "stream",
     "text": [
      "The prediction price is [587979.45205479]\n",
      "The coefficient(m) of equation is [135.78767123]\n",
      "The y-intercept(b) of equation is 180616.43835616432\n",
      "The Accurancy score is 0.9584301138199486\n"
     ]
    },
    {
     "data": {
      "text/html": [
       "<div>\n",
       "<style scoped>\n",
       "    .dataframe tbody tr th:only-of-type {\n",
       "        vertical-align: middle;\n",
       "    }\n",
       "\n",
       "    .dataframe tbody tr th {\n",
       "        vertical-align: top;\n",
       "    }\n",
       "\n",
       "    .dataframe thead th {\n",
       "        text-align: right;\n",
       "    }\n",
       "</style>\n",
       "<table border=\"1\" class=\"dataframe\">\n",
       "  <thead>\n",
       "    <tr style=\"text-align: right;\">\n",
       "      <th></th>\n",
       "      <th>area</th>\n",
       "      <th>price</th>\n",
       "    </tr>\n",
       "  </thead>\n",
       "  <tbody>\n",
       "    <tr>\n",
       "      <td>0</td>\n",
       "      <td>2600</td>\n",
       "      <td>550000</td>\n",
       "    </tr>\n",
       "    <tr>\n",
       "      <td>1</td>\n",
       "      <td>3000</td>\n",
       "      <td>565000</td>\n",
       "    </tr>\n",
       "    <tr>\n",
       "      <td>2</td>\n",
       "      <td>3200</td>\n",
       "      <td>610000</td>\n",
       "    </tr>\n",
       "    <tr>\n",
       "      <td>3</td>\n",
       "      <td>3600</td>\n",
       "      <td>680000</td>\n",
       "    </tr>\n",
       "    <tr>\n",
       "      <td>4</td>\n",
       "      <td>4000</td>\n",
       "      <td>725000</td>\n",
       "    </tr>\n",
       "  </tbody>\n",
       "</table>\n",
       "</div>"
      ],
      "text/plain": [
       "   area   price\n",
       "0  2600  550000\n",
       "1  3000  565000\n",
       "2  3200  610000\n",
       "3  3600  680000\n",
       "4  4000  725000"
      ]
     },
     "execution_count": 5,
     "metadata": {},
     "output_type": "execute_result"
    },
    {
     "data": {
      "image/png": "[encoded data removed]",
      "text/plain": [
       "<Figure size 432x288 with 1 Axes>"
      ]
     },
     "metadata": {
      "needs_background": "light"
     },
     "output_type": "display_data"
    }
   ],
   "source": [
    "import pandas as pd\n",
    "import numpy as np\n",
    "import matplotlib.pyplot as plt\n",
    "from sklearn import linear_model\n",
    "%matplotlib inline\n",
    "\n",
    "df = pd.read_csv(\"C:\\\\Users\\\\Aung Thiha\\\\Machine Learning With Python\\\\Machine Learning DataSets (csv format)\\\\area_price_list.csv\")\n",
    "reg = linear_model.LinearRegression()\n",
    "reg.fit(df[['area']],df.price)\n",
    "\n",
    "plt.scatter(df.area,df.price,color=\"red\")\n",
    "plt.plot(df.area,df.price,color=\"yellow\")\n",
    "plt.plot(df.area,reg.predict(df[[\"area\"]]))\n",
    "\n",
    "print(\"The prediction price is {}\".format(reg.predict([[3000]])))\n",
    "print(\"The coefficient(m) of equation is {}\".format(reg.coef_))\n",
    "print(\"The y-intercept(b) of equation is {}\".format(reg.intercept_))\n",
    "print(\"The Accurancy score is {}\".format(reg.score(df[['area']],df.price)))\n",
    "print()"
   ]
  },
  {
   "cell_type": "markdown",
   "metadata": {},
   "source": [
    "### Exercise 1"
   ]
  },
  {
   "cell_type": "code",
   "execution_count": 4,
   "metadata": {},
   "outputs": [
    {
     "name": "stdout",
     "output_type": "stream",
     "text": [
      "0     3.164041e+05\n",
      "1     3.842979e+05\n",
      "2     4.929281e+05\n",
      "3     6.613048e+05\n",
      "4     7.400616e+05\n",
      "5     7.998082e+05\n",
      "6     9.260908e+05\n",
      "7     6.504418e+05\n",
      "8     8.256079e+05\n",
      "9     4.929281e+05\n",
      "10    1.402705e+06\n",
      "11    1.348390e+06\n",
      "12    1.144709e+06\n",
      "Name: price, dtype: float64\n"
     ]
    },
    {
     "data": {
      "image/png": "[encoded data removed]",
      "text/plain": [
       "<Figure size 432x288 with 1 Axes>"
      ]
     },
     "metadata": {
      "needs_background": "light"
     },
     "output_type": "display_data"
    }
   ],
   "source": [
    "import pandas as pd\n",
    "import numpy as np\n",
    "import matplotlib.pyplot as plt\n",
    "from sklearn import linear_model\n",
    "%matplotlib inline\n",
    "\n",
    "df = pd.read_csv(\"C:\\\\Users\\\\Aung Thiha\\\\Machine Learning With Python\\\\Machine Learning DataSets (csv format)\\\\area_price_list.csv\")\n",
    "reg = linear_model.LinearRegression()\n",
    "reg.fit(df[['area']],df.price)\n",
    "\n",
    "area_df = pd.read_csv(\"C:\\\\Users\\\\Aung Thiha\\\\Machine Learning With Python\\\\Machine Learning DataSets (csv format)\\\\areas.csv\")\n",
    "\n",
    "prediction = reg.predict(area_df)\n",
    "\n",
    "area_df['price'] = prediction\n",
    "plt.scatter(area_df.area,area_df['price'],color=\"red\")\n",
    "plt.plot(area_df.area,area_df['price'],color=\"blue\")\n",
    "#plt.plot(area_df.area,reg.predict(area_df[['area']]),color=\"pink\")\n",
    "\n",
    "print(area_df[\"price\"])"
   ]
  },
  {
   "cell_type": "markdown",
   "metadata": {},
   "source": [
    "### Exercise 2"
   ]
  },
  {
   "cell_type": "code",
   "execution_count": 3,
   "metadata": {},
   "outputs": [
    {
     "name": "stdout",
     "output_type": "stream",
     "text": [
      "The prediction price is [41288.69409442]\n"
     ]
    },
    {
     "data": {
      "image/png": "[encoded data removed]",
      "text/plain": [
       "<Figure size 432x288 with 1 Axes>"
      ]
     },
     "metadata": {
      "needs_background": "light"
     },
     "output_type": "display_data"
    }
   ],
   "source": [
    "import pandas as pd\n",
    "import numpy as np\n",
    "import matplotlib.pyplot as plt\n",
    "from sklearn import linear_model\n",
    "%matplotlib inline\n",
    "\n",
    "df = pd.read_csv(\"C:\\\\Users\\\\Aung Thiha\\\\Machine Learning With Python\\\\Machine Learning DataSets (csv format)\\\\canada_per_capita_income.csv\")\n",
    "reg = linear_model.LinearRegression()\n",
    "\n",
    "reg.fit(df[['year']],df[\"per capita income (US$)\"])\n",
    "\n",
    "prediction = reg.predict([[2020]])\n",
    "\n",
    "plt.scatter(df.year,df[\"per capita income (US$)\"],color=\"red\")\n",
    "plt.plot(df.year,df[\"per capita income (US$)\"])\n",
    "plt.plot(df.year,reg.predict(df[[\"year\"]]))\n",
    "print(\"The prediction price is {}\".format(prediction))"
   ]
  },
  {
   "cell_type": "markdown",
   "metadata": {},
   "source": [
    "### Exercise 1\n",
    "\n",
    "https://w2n.readthedocs.io/en/latest/\n",
    "\n",
    "https://pandas.pydata.org/pandas-docs/stable/reference/api/pandas.DataFrame.apply.html?highlight=apply#pandas.DataFrame.apply"
   ]
  },
  {
   "cell_type": "code",
   "execution_count": 2,
   "metadata": {},
   "outputs": [
    {
     "name": "stdout",
     "output_type": "stream",
     "text": [
      "[53713.86677124]\n",
      "[93747.79628651]\n"
     ]
    }
   ],
   "source": [
    "import math\n",
    "from word2number import w2n\n",
    "import pandas as pd\n",
    "import numpy\n",
    "from sklearn import linear_model\n",
    "import matplotlib.pyplot as plt\n",
    "%matplotlib inline\n",
    "\n",
    "df = pd.read_csv(\"C:\\\\Users\\\\Aung Thiha\\\\Machine Learning With Python\\\\Machine Learning DataSets (csv format)\\\\hiring.csv\")\n",
    "\n",
    "# Data pre-processing\n",
    "df_mean = df['test_score(out of 10)'].mean()\n",
    "df.experience = df.experience.fillna(\"zero\")\n",
    "df.experience = df.experience.apply(w2n.word_to_num)\n",
    "df = df.fillna(math.floor(df_mean))\n",
    "\n",
    "reg = linear_model.LinearRegression()\n",
    "\n",
    "reg.fit(df[[\"experience\",\"test_score(out of 10)\",\"interview_score(out of 10)\"]],df['salary($)'])\n",
    "\n",
    "print(reg.predict([[2,9,6]]))\n",
    "print(reg.predict([[12,10,10]]))"
   ]
  },
  {
   "cell_type": "code",
   "execution_count": null,
   "metadata": {},
   "outputs": [],
   "source": []
  }
 ],
 "metadata": {
  "kernelspec": {
   "display_name": "Python 3",
   "language": "python",
   "name": "python3"
  },
  "language_info": {
   "codemirror_mode": {
    "name": "ipython",
    "version": 3
   },
   "file_extension": ".py",
   "mimetype": "text/x-python",
   "name": "python",
   "nbconvert_exporter": "python",
   "pygments_lexer": "ipython3",
   "version": "3.7.4"
  }
 },
 "nbformat": 4,
 "nbformat_minor": 2
}
