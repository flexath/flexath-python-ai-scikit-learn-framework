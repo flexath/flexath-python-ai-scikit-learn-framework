{
 "cells": [
  {
   "cell_type": "markdown",
   "metadata": {},
   "source": [
    "https://www.youtube.com/watch?v=2Mg8QD0F1dQ\n",
    "\n",
    "https://www.youtube.com/watch?v=GM3CDQfQ4sw\n",
    "\n",
    "https://medium.com/datadriveninvestor/random-forest-regression-9871bc9a25eb#:~:text=A%20Random%20Forest%20is%20an,Aggregation%2C%20commonly%20known%20as%20bagging.\n",
    "\n",
    "https://towardsdatascience.com/random-forest-and-its-implementation-71824ced454f\n",
    "\n",
    "https://www.youtube.com/watch?v=g9c66TUylZ4&list=PLblh5JKOoLUICTaGLRoHQDuF_7q2GfuJF&index=36"
   ]
  },
  {
   "cell_type": "markdown",
   "metadata": {},
   "source": [
    "## Positions and Salaries Dataset"
   ]
  },
  {
   "cell_type": "code",
   "execution_count": 78,
   "metadata": {},
   "outputs": [
    {
     "name": "stdout",
     "output_type": "stream",
     "text": [
      "Prediction accurancy is  0.988449322722063\n",
      "Prediction value is  [541176.47058824  60000.         129411.76470588]\n",
      "8    500000\n",
      "2     60000\n",
      "5    150000\n",
      "Name: Salary, dtype: int64\n"
     ]
    }
   ],
   "source": [
    "import pandas as pd\n",
    "import matplotlib.pyplot as plt\n",
    "from sklearn.model_selection import train_test_split,GridSearchCV\n",
    "from sklearn.ensemble import RandomForestRegressor\n",
    "import warnings\n",
    "warnings.simplefilter(\"ignore\")\n",
    "\n",
    "df = pd.read_csv(\"C:\\\\Users\\\\Aung Thiha\\\\Machine Learning With Python\\\\Machine Learning DataSets (csv format)\\\\Position_Salaries.csv\")\n",
    "\n",
    "inputs = df.drop([\"Salary\",\"Position\"],axis=\"columns\")\n",
    "target = df[\"Salary\"]\n",
    "\n",
    "X_train,X_test,y_train,y_test = train_test_split(inputs,target,test_size=0.3,random_state=10)\n",
    "\n",
    "random_regressor = RandomForestRegressor(n_estimators=17)\n",
    "\n",
    "#random_regressor.fit(inputs,target)\n",
    "random_regressor.fit(X_train,y_train)\n",
    "\n",
    "#print(\"Prediction accurancy is \",random_regressor.score(inputs,target))\n",
    "#print(\"Prediction value is \",random_regressor.predict([[5]]))\n",
    "print(\"Prediction accurancy is \",random_regressor.score(X_train,y_train))\n",
    "print(\"Prediction value is \",random_regressor.predict(X_test))\n",
    "print(y_test)"
   ]
  },
  {
   "cell_type": "markdown",
   "metadata": {},
   "source": [
    "## Search the best parameters using GridSearchCV()"
   ]
  },
  {
   "cell_type": "code",
   "execution_count": 77,
   "metadata": {},
   "outputs": [
    {
     "name": "stdout",
     "output_type": "stream",
     "text": [
      "The best parmeters are  {'max_depth': 6, 'n_estimators': 17}\n"
     ]
    }
   ],
   "source": [
    "gsc = GridSearchCV(estimator=RandomForestRegressor(),param_grid={'max_depth': range(3,7),\n",
    "                                                                 'n_estimators': range(10,30)},\n",
    "                   cv=5, scoring='neg_mean_squared_error', verbose=0,n_jobs=-1)\n",
    "grid_result = gsc.fit(inputs, target)\n",
    "best_params = grid_result.best_params_\n",
    "print(\"The best parmeters are \" , best_params)"
   ]
  }
 ],
 "metadata": {
  "kernelspec": {
   "display_name": "Python 3",
   "language": "python",
   "name": "python3"
  },
  "language_info": {
   "codemirror_mode": {
    "name": "ipython",
    "version": 3
   },
   "file_extension": ".py",
   "mimetype": "text/x-python",
   "name": "python",
   "nbconvert_exporter": "python",
   "pygments_lexer": "ipython3",
   "version": "3.7.4"
  }
 },
 "nbformat": 4,
 "nbformat_minor": 2
}
