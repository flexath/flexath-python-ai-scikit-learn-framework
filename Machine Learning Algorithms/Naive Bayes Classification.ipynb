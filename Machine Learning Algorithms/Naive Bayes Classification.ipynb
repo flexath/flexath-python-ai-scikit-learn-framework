{
 "cells": [
  {
   "cell_type": "markdown",
   "metadata": {},
   "source": [
    "https://scikit-learn.org/stable/modules/generated/sklearn.feature_extraction.text.CountVectorizer.html"
   ]
  },
  {
   "cell_type": "code",
   "execution_count": 81,
   "metadata": {},
   "outputs": [
    {
     "name": "stdout",
     "output_type": "stream",
     "text": [
      "[0 0 0 0 1]\n",
      "['And how you will do that, princess? :)'\n",
      " \"Great to hear you are settling well. So what's happenin wit ola?\"\n",
      " 'Wot about on wed nite I am 3 then but only til 9!'\n",
      " 'Do have a nice day today. I love you so dearly.'\n",
      " 'Talk sexy!! Make new friends or fall in love in the worlds most discreet text dating service. Just text VIP to 83110 and see who you could meet.']\n"
     ]
    }
   ],
   "source": [
    "import pandas as pd\n",
    "from sklearn.preprocessing import LabelEncoder\n",
    "from sklearn.model_selection import train_test_split\n",
    "from sklearn.naive_bayes import MultinomialNB\n",
    "from sklearn.feature_extraction.text import CountVectorizer\n",
    "\n",
    "filepath =\"C:\\\\Users\\\\Aung Thiha\\\\Machine Learning With Python\\\\Machine Learning DataSets (csv format)\\\\spam.csv\"\n",
    "df = pd.read_csv(filepath)\n",
    "\n",
    "category_Encoder = LabelEncoder()\n",
    "df[\"categories\"] = category_Encoder.fit_transform(df[\"Category\"])\n",
    "\n",
    "df = df.drop(\"Category\",axis=\"columns\")\n",
    "\n",
    "#inputs = df.drop(\"categories\",axis=\"columns\")\n",
    "#target = df.categories\n",
    "\n",
    "X_train, X_test, y_train, y_test = train_test_split(df.Message,df.categories,test_size=0.2,random_state=10)\n",
    "\n",
    "vectorizer  = CountVectorizer()\n",
    "X_train_count = vectorizer.fit_transform(X_train.values)\n",
    "#print(X_train_count.toarray()[:3])\n",
    "\n",
    "model = MultinomialNB()\n",
    "model.fit(X_train_count,y_train)\n",
    "print(model.predict(X_train_count[:5]))\n",
    "print(X_train.values[0:5])"
   ]
  },
  {
   "cell_type": "code",
   "execution_count": 82,
   "metadata": {},
   "outputs": [
    {
     "name": "stdout",
     "output_type": "stream",
     "text": [
      "[0 1 0 0 1]\n"
     ]
    }
   ],
   "source": [
    "emails = [\n",
    "    'Hey mohan, can we get together to watch footbal game tomorrow?',\n",
    "    'Upto 20% discount on parking, exclusive offer just for you. Dont miss this reward!',\n",
    "    \"Is that seriously how you spell his name?\",\n",
    "    \"Go until\",\n",
    "    \"Free entry\"\n",
    "]\n",
    "emails_count = vectorizer.transform(emails)\n",
    "#print(\"Email\" ,emails_count.toarray())\n",
    "\n",
    "model.fit(X_train_count,y_train)\n",
    "print(model.predict(emails_count))"
   ]
  }
 ],
 "metadata": {
  "kernelspec": {
   "display_name": "Python 3",
   "language": "python",
   "name": "python3"
  },
  "language_info": {
   "codemirror_mode": {
    "name": "ipython",
    "version": 3
   },
   "file_extension": ".py",
   "mimetype": "text/x-python",
   "name": "python",
   "nbconvert_exporter": "python",
   "pygments_lexer": "ipython3",
   "version": "3.7.4"
  }
 },
 "nbformat": 4,
 "nbformat_minor": 2
}
