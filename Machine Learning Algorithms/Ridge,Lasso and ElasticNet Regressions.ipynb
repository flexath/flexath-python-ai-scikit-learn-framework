{
 "cells": [
  {
   "cell_type": "markdown",
   "metadata": {},
   "source": [
    "https://medium.com/@rrfd/what-is-ridge-regression-applications-in-python-6ed3acbb2aaf\n",
    "\n",
    "https://towardsdatascience.com/ridge-regression-for-better-usage-2f19b3a202db\n",
    "\n",
    "https://github.com/Q-shick/fundamentals_of_data_science/blob/master/mathematical%20_model/Ridge%20and%20Lasso.ipynb\n",
    "\n",
    "https://towardsdatascience.com/intro-to-linear-model-selection-and-regularization-d47bd2c5d54\n",
    "\n",
    "https://www.statisticshowto.datasciencecentral.com/ridge-regression/\n",
    "\n",
    "https://hackernoon.com/an-introduction-to-ridge-lasso-and-elastic-net-regression-cca60b4b934f\n",
    "\n",
    "https://medium.com/@jayeshbahire/lasso-ridge-and-elastic-net-regularization-4807897cb722"
   ]
  },
  {
   "cell_type": "markdown",
   "metadata": {},
   "source": [
    "## Boston House Price Datasets"
   ]
  },
  {
   "cell_type": "code",
   "execution_count": null,
   "metadata": {},
   "outputs": [],
   "source": [
    "import pandas as pd\n",
    "from sklearn.linear_model import LinearRegression,Ridge,Lasso,ElasticNet\n",
    "from sklearn.model_selection import train_test_split\n",
    "from sklearn.datasets import load_boston\n",
    "import matplotlib.pyplot as plt\n",
    "import numpy as np\n",
    "%matplotlib inline\n",
    "\n",
    "boston = load_boston()\n",
    "\n",
    "df = pd.DataFrame(boston.data,boston.target)\n",
    "df[\"target\"] = boston.target\n",
    "\n",
    "inputs = df.drop([\"target\"],axis=\"columns\")\n",
    "target = df.target\n",
    "\n",
    "X_train,X_test,y_train,y_test = train_test_split(inputs,target,test_size=0.1)\n",
    "\n",
    "ridge_model = Ridge(alpha=0.01)\n",
    "lasso_model = Lasso(alpha=0.01)\n",
    "elasticnet_model = ElasticNet(alpha=0.01)\n",
    "reg_model = LinearRegression()\n",
    "\n",
    "ridge_model.fit(X_train,y_train)\n",
    "reg_model.fit(X_train,y_train)\n",
    "elasticnet_model.fit(X_train,y_train)\n",
    "lasso_model.fit(X_train,y_train)\n",
    "\n",
    "print(\"Ridge Accurancy score is \",ridge_model.score(inputs,target)*100,\"%\")\n",
    "print(\"Simple Accurancy score is \",reg_model.score(inputs,target)*100,\"%\")\n",
    "print(\"Lasso Accurancy score is \",lasso_model.score(inputs,target)*100,\"%\")\n",
    "print(\"ElasticNet Accurancy score is \",elasticnet_model.score(inputs,target)*100,\"%\")\n",
    "\n",
    "#print(ridge_model.predict([[0.00632,18.0,2.31,0.0,0.538,6.575,65.2,4.0900,1.0,296.0,15.3,396.90,4.98]]))\n",
    "print(\"Predict Scores are : \",ridge_model.predict(X_test))"
   ]
  },
  {
   "cell_type": "markdown",
   "metadata": {},
   "source": [
    "# Diamond Price Datasets"
   ]
  },
  {
   "cell_type": "code",
   "execution_count": 3,
   "metadata": {},
   "outputs": [
    {
     "name": "stdout",
     "output_type": "stream",
     "text": [
      "['Ideal' 'Premium' 'Good' 'Very Good' 'Fair']\n",
      "['E' 'I' 'J' 'H' 'F' 'G' 'D']\n",
      "['SI2' 'SI1' 'VS1' 'VS2' 'VVS2' 'VVS1' 'I1' 'IF']\n",
      "Unnamed: 0    0\n",
      "carat         0\n",
      "cut           0\n",
      "color         0\n",
      "clarity       0\n",
      "depth         0\n",
      "table         0\n",
      "price         0\n",
      "x             0\n",
      "y             0\n",
      "z             0\n",
      "Cut           0\n",
      "Color         0\n",
      "Clarity       0\n",
      "dtype: int64\n"
     ]
    },
    {
     "ename": "TypeError",
     "evalue": "__init__() got an unexpected keyword argument 'alpha'",
     "output_type": "error",
     "traceback": [
      "\u001b[1;31m---------------------------------------------------------------------------\u001b[0m",
      "\u001b[1;31mTypeError\u001b[0m                                 Traceback (most recent call last)",
      "\u001b[1;32m<ipython-input-3-f158f5a354bd>\u001b[0m in \u001b[0;36m<module>\u001b[1;34m\u001b[0m\n\u001b[0;32m     32\u001b[0m \u001b[0mridge\u001b[0m \u001b[1;33m=\u001b[0m \u001b[0mRidge\u001b[0m\u001b[1;33m(\u001b[0m\u001b[1;33m)\u001b[0m\u001b[1;33m\u001b[0m\u001b[1;33m\u001b[0m\u001b[0m\n\u001b[0;32m     33\u001b[0m \u001b[0melastic\u001b[0m \u001b[1;33m=\u001b[0m \u001b[0mElasticNet\u001b[0m\u001b[1;33m(\u001b[0m\u001b[1;33m)\u001b[0m\u001b[1;33m\u001b[0m\u001b[1;33m\u001b[0m\u001b[0m\n\u001b[1;32m---> 34\u001b[1;33m \u001b[0mbaye\u001b[0m \u001b[1;33m=\u001b[0m \u001b[0mBayesianRidge\u001b[0m\u001b[1;33m(\u001b[0m\u001b[0malpha\u001b[0m\u001b[1;33m=\u001b[0m\u001b[1;36m2\u001b[0m\u001b[1;33m)\u001b[0m\u001b[1;33m\u001b[0m\u001b[1;33m\u001b[0m\u001b[0m\n\u001b[0m\u001b[0;32m     35\u001b[0m \u001b[1;33m\u001b[0m\u001b[0m\n\u001b[0;32m     36\u001b[0m \u001b[0mlinear\u001b[0m\u001b[1;33m.\u001b[0m\u001b[0mfit\u001b[0m\u001b[1;33m(\u001b[0m\u001b[0mX\u001b[0m\u001b[1;33m,\u001b[0m\u001b[0my\u001b[0m\u001b[1;33m)\u001b[0m\u001b[1;33m\u001b[0m\u001b[1;33m\u001b[0m\u001b[0m\n",
      "\u001b[1;31mTypeError\u001b[0m: __init__() got an unexpected keyword argument 'alpha'"
     ]
    }
   ],
   "source": [
    "import pandas as pd\n",
    "from sklearn.preprocessing import LabelEncoder,StandardScaler\n",
    "from sklearn.linear_model import LinearRegression,Lasso,Ridge,ElasticNet\n",
    "\n",
    "df = pd.read_csv(\"C:\\\\Users\\\\Aung Thiha\\Machine Learning With Python\\\\Machine Learning DataSets (csv format)\\\\diamonds.csv\")\n",
    "df.drop([\"Unnamed: 0\"],axis = \"columns\")\n",
    "\n",
    "encoding = LabelEncoder()\n",
    "\n",
    "print(df[\"cut\"].unique())\n",
    "print(df[\"color\"].unique())\n",
    "print(df[\"clarity\"].unique())\n",
    "\n",
    "df[\"Cut\"] = encoding.fit_transform(df[\"cut\"])\n",
    "df[\"Color\"] = encoding.fit_transform(df[\"color\"])\n",
    "df[\"Clarity\"] = encoding.fit_transform(df[\"clarity\"])\n",
    "\n",
    "df.drop([\"cut\",\"color\",\"clarity\"],axis = \"columns\")\n",
    "\n",
    "X = df[[\"carat\",\"depth\",\"table\",\"x\",\"y\",\"z\",\"Cut\",\"Color\",\"Clarity\"]]\n",
    "y = df.price\n",
    "\n",
    "print(df.isnull().sum())\n",
    "\n",
    "scale = StandardScaler()\n",
    "scale.fit(X)\n",
    "\n",
    "X = scale.transform(X)\n",
    "\n",
    "linear = LinearRegression()\n",
    "lasso = Lasso(alpha=3)\n",
    "ridge = Ridge()\n",
    "elastic = ElasticNet()\n",
    "\n",
    "linear.fit(X,y)\n",
    "lasso.fit(X,y)\n",
    "ridge.fit(X,y)\n",
    "elastic.fit(X,y)\n",
    "\n",
    "print(linear.score(X,y))\n",
    "print(lasso.score(X,y))\n",
    "print(ridge.score(X,y))\n",
    "print(elastic.score(X,y))"
   ]
  },
  {
   "cell_type": "markdown",
   "metadata": {},
   "source": [
    "### Using train_test_split method"
   ]
  },
  {
   "cell_type": "code",
   "execution_count": 12,
   "metadata": {},
   "outputs": [
    {
     "name": "stdout",
     "output_type": "stream",
     "text": [
      "['Ideal' 'Premium' 'Good' 'Very Good' 'Fair']\n",
      "['E' 'I' 'J' 'H' 'F' 'G' 'D']\n",
      "['SI2' 'SI1' 'VS1' 'VS2' 'VVS2' 'VVS1' 'I1' 'IF']\n",
      "Unnamed: 0    0\n",
      "carat         0\n",
      "cut           0\n",
      "color         0\n",
      "clarity       0\n",
      "depth         0\n",
      "table         0\n",
      "price         0\n",
      "x             0\n",
      "y             0\n",
      "z             0\n",
      "Cut           0\n",
      "Color         0\n",
      "Clarity       0\n",
      "dtype: int64\n",
      "0.8843875399326425\n",
      "0.8845797937017236\n",
      "0.8838409279627939\n",
      "0.7856819939710848\n"
     ]
    }
   ],
   "source": [
    "from sklearn.model_selection import train_test_split\n",
    "import pandas as pd\n",
    "from sklearn.preprocessing import LabelEncoder,StandardScaler\n",
    "from sklearn.linear_model import LinearRegression,Lasso,Ridge,ElasticNet\n",
    "\n",
    "df = pd.read_csv(\"C:\\\\Users\\\\Aung Thiha\\Machine Learning With Python\\\\Machine Learning DataSets (csv format)\\\\diamonds.csv\")\n",
    "df.drop([\"Unnamed: 0\"],axis = \"columns\")\n",
    "\n",
    "encoding = LabelEncoder()\n",
    "\n",
    "print(df[\"cut\"].unique())\n",
    "print(df[\"color\"].unique())\n",
    "print(df[\"clarity\"].unique())\n",
    "\n",
    "df[\"Cut\"] = encoding.fit_transform(df[\"cut\"])\n",
    "df[\"Color\"] = encoding.fit_transform(df[\"color\"])\n",
    "df[\"Clarity\"] = encoding.fit_transform(df[\"clarity\"])\n",
    "\n",
    "df.drop([\"cut\",\"color\",\"clarity\"],axis = \"columns\")\n",
    "\n",
    "X = df[[\"carat\",\"depth\",\"table\",\"x\",\"y\",\"z\",\"Cut\",\"Color\",\"Clarity\"]]\n",
    "y = df.price\n",
    "\n",
    "print(df.isnull().sum())\n",
    "\n",
    "\n",
    "X_train,X_test,y_train,y_test = train_test_split(X,y,test_size = 0.3,random_state=101)\n",
    "\n",
    "\n",
    "scale = StandardScaler()\n",
    "scale.fit(X)\n",
    "\n",
    "X = scale.transform(X)\n",
    "\n",
    "linear = LinearRegression()\n",
    "lasso = Lasso(alpha=1.5)\n",
    "ridge = Ridge(alpha=24)\n",
    "elastic = ElasticNet()\n",
    "\n",
    "linear.fit(X_train,y_train)\n",
    "lasso.fit(X_train,y_train)\n",
    "ridge.fit(X_train,y_train)\n",
    "elastic.fit(X_train,y_train)\n",
    "\n",
    "print(linear.score(X_test,y_test))\n",
    "print(lasso.score(X_test,y_test))\n",
    "print(ridge.score(X_test,y_test))\n",
    "print(elastic.score(X_test,y_test))"
   ]
  },
  {
   "cell_type": "markdown",
   "metadata": {},
   "source": [
    "## For Visualization"
   ]
  },
  {
   "cell_type": "code",
   "execution_count": 18,
   "metadata": {},
   "outputs": [
    {
     "data": {
      "image/png": "[encoded data removed]",
      "text/plain": [
       "<Figure size 1152x504 with 2 Axes>"
      ]
     },
     "metadata": {
      "needs_background": "light"
     },
     "output_type": "display_data"
    }
   ],
   "source": [
    "# Import library for visualization\n",
    "import matplotlib.pyplot as plt\n",
    "import numpy as np\n",
    "import warnings\n",
    "warnings.filterwarnings(\"ignore\")\n",
    "\n",
    "coefsLasso = []\n",
    "coefsRidge = []\n",
    "# Build Ridge and Lasso for 200 values of alpha and write the coefficients into array\n",
    "alphasLasso = np.arange (0, 20, 0.1)\n",
    "alphasRidge = np.arange (0, 200, 1)\n",
    "for i in range(200):\n",
    "    lasso = Lasso(alpha=alphasLasso[i])\n",
    "    lasso.fit(X_train, y_train)\n",
    "    coefsLasso.append(lasso.coef_)\n",
    "    ridge = Ridge(alpha=alphasRidge[i])\n",
    "    ridge.fit(X_train, y_train)\n",
    "    coefsRidge.append(ridge.coef_[0])\n",
    "\n",
    "# Build Lasso and Ridge coefficient plots\n",
    "plt.figure(figsize = (16,7))\n",
    "\n",
    "plt.subplot(121)\n",
    "plt.plot(alphasLasso, coefsLasso)\n",
    "plt.title('Lasso coefficients')\n",
    "plt.xlabel('alpha')\n",
    "plt.ylabel('coefs')\n",
    "\n",
    "plt.subplot(122)\n",
    "plt.plot(alphasRidge, coefsRidge)\n",
    "plt.title('Ridge coefficients')\n",
    "plt.xlabel('alpha')\n",
    "plt.ylabel('coefs')\n",
    "\n",
    "plt.show()"
   ]
  },
  {
   "cell_type": "code",
   "execution_count": null,
   "metadata": {},
   "outputs": [],
   "source": []
  }
 ],
 "metadata": {
  "kernelspec": {
   "display_name": "Python 3",
   "language": "python",
   "name": "python3"
  },
  "language_info": {
   "codemirror_mode": {
    "name": "ipython",
    "version": 3
   },
   "file_extension": ".py",
   "mimetype": "text/x-python",
   "name": "python",
   "nbconvert_exporter": "python",
   "pygments_lexer": "ipython3",
   "version": "3.7.4"
  }
 },
 "nbformat": 4,
 "nbformat_minor": 2
}
